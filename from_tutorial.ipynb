{
 "cells": [
  {
   "cell_type": "code",
   "execution_count": null,
   "id": "156e49ca-f5b6-4b9f-a1fe-abcb5f26200f",
   "metadata": {},
   "outputs": [],
   "source": [
    "import torch\n",
    "import torchani\n"
   ]
  },
  {
   "cell_type": "code",
   "execution_count": null,
   "id": "16acb0d0-aee7-47ee-b070-14b05c63aed7",
   "metadata": {},
   "outputs": [],
   "source": [
    "device = \"cpu\" #torch.device('cuda' if torch.cuda.is_available() else 'cpu')"
   ]
  },
  {
   "cell_type": "code",
   "execution_count": null,
   "id": "c7c1831b-9dad-47cd-bab2-8947334bc17b",
   "metadata": {},
   "outputs": [],
   "source": [
    "model = torchani.models.ANI2x(periodic_table_index=True).to(device)"
   ]
  },
  {
   "cell_type": "code",
   "execution_count": null,
   "id": "eda99779-74cb-442e-bc31-d6463bd7823d",
   "metadata": {},
   "outputs": [],
   "source": [
    "coordinates = torch.tensor([[[0.03192167, 0.00638559, 0.01301679],\n",
    "                             [-0.83140486, 0.39370209, -0.26395324],\n",
    "                             [-0.66518241, -0.84461308, 0.20759389],\n",
    "                             [0.45554739, 0.54289633, 0.81170881],\n",
    "                             [0.66091919, -0.16799635, -0.91037834]]],\n",
    "                           requires_grad=True, device=device)\n",
    "# In periodic table, C = 6 and H = 1\n",
    "elements_torch = torch.tensor([[6, 1, 1, 1, 1]], device=device)"
   ]
  },
  {
   "cell_type": "code",
   "execution_count": null,
   "id": "292ddc36-54d9-47b3-9c00-2dfcfd2c3401",
   "metadata": {},
   "outputs": [],
   "source": [
    "cell = torch.tensor([[2., 0, 0], [0,2.,0], [0,0,2.]], device=device)"
   ]
  },
  {
   "cell_type": "code",
   "execution_count": null,
   "id": "85e3a0ae-8c87-4631-9093-4579e2eea505",
   "metadata": {},
   "outputs": [],
   "source": [
    "pbc = torch.tensor([True, True, True], device=device)"
   ]
  },
  {
   "cell_type": "code",
   "execution_count": null,
   "id": "6828012c-844c-4ed3-8bd5-b0958b0a1907",
   "metadata": {},
   "outputs": [],
   "source": [
    "model((species, coordinates), pbc=pbc, cell=cell).energies"
   ]
  },
  {
   "cell_type": "code",
   "execution_count": null,
   "id": "4d2353d9-53b5-4f31-ab45-792d37634628",
   "metadata": {},
   "outputs": [],
   "source": [
    "import time"
   ]
  },
  {
   "cell_type": "code",
   "execution_count": null,
   "id": "f6dbccf0-1cea-4807-8f13-2cbc9243f016",
   "metadata": {},
   "outputs": [],
   "source": [
    "start = time.time()\n",
    "model((species, coordinates), pbc=pbc, cell=cell).energies\n",
    "end = time.time()\n",
    "\n",
    "print(f\"elapsed time = {end - start}\") "
   ]
  },
  {
   "cell_type": "code",
   "execution_count": null,
   "id": "b7df4f4d-7c99-4cfc-8220-c73d9f36599e",
   "metadata": {},
   "outputs": [],
   "source": [
    "derivative = torch.autograd.grad(energy.sum(), coordinates)[0]\n",
    "force = -derivative"
   ]
  },
  {
   "cell_type": "code",
   "execution_count": null,
   "id": "72c5079a-2dc1-478d-99b3-2d1eed42f893",
   "metadata": {},
   "outputs": [],
   "source": []
  }
 ],
 "metadata": {
  "kernelspec": {
   "display_name": "Python 3 (ipykernel)",
   "language": "python",
   "name": "python3"
  },
  "language_info": {
   "codemirror_mode": {
    "name": "ipython",
    "version": 3
   },
   "file_extension": ".py",
   "mimetype": "text/x-python",
   "name": "python",
   "nbconvert_exporter": "python",
   "pygments_lexer": "ipython3",
   "version": "3.11.8"
  }
 },
 "nbformat": 4,
 "nbformat_minor": 5
}
